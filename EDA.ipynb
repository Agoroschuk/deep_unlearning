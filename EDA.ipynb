{
 "cells": [
  {
   "cell_type": "markdown",
   "id": "71b96d5b",
   "metadata": {},
   "source": [
    "# По README"
   ]
  },
  {
   "cell_type": "code",
   "execution_count": 1,
   "id": "498b415a",
   "metadata": {},
   "outputs": [],
   "source": [
    "import torch\n",
    "from datasets import Dataset\n",
    "# Load the QA-form knowledge base as huggingfact datasets\n",
    "dataset_relationships = Dataset.from_dict(torch.load(\"synthetic_data/family_relationships.pt\")) #load the facts in family relationships\n",
    "dataset_biographies = Dataset.from_dict(torch.load(\"synthetic_data/family_biographies.pt\")) #load the facts in biographies"
   ]
  },
  {
   "cell_type": "code",
   "execution_count": 2,
   "id": "60f249da",
   "metadata": {},
   "outputs": [
    {
     "name": "stdout",
     "output_type": "stream",
     "text": [
      "Relationships dataset: 400\n",
      "Biographies dataset: 300\n",
      "Sample relationships: {'fact': \"Richard Perry is Reid Perry's father.\", 'question': \"Richard Perry is Reid Perry's \", 'answer': 'father', 'question2': \"Is Richard Perry Reid Perry's father?\", 'answer2': 'yes', 'question3': \"Is Richard Perry Reid Perry's uncle?\", 'answer3': 'no', 'question4': 'Who is Richard Perry to Reid Perry?', 'answer4': 'father'}\n",
      "Sample biographies: {'fact': 'The birthyear of Sloane Lee is 1908.', 'question': 'The birthyear of Sloane Lee is', 'answer': '1908', 'question4': 'What is the birthyear of Sloane Lee?', 'answer4': '1908'}\n",
      "len_sample_relat 9\n",
      "len_sample_bio 5\n"
     ]
    }
   ],
   "source": [
    "# От авторов: The question and answer are with the key question4 and answer4. (Значит, только на них тестировалось забывание?)\n",
    "\n",
    "# Biographies забывались лучше \n",
    "print(\"Relationships dataset:\", len(dataset_relationships))\n",
    "print(\"Biographies dataset:\", len(dataset_biographies))\n",
    "print(\"Sample relationships:\", dataset_relationships[0])\n",
    "print(\"Sample biographies:\", dataset_biographies[0])\n",
    "\n",
    "sample_relat = dataset_relationships[0]\n",
    "sample_bio = dataset_biographies[0] # здесь только пары question-answer и question4-answer4\n",
    "print('len_sample_relat', len(sample_relat))\n",
    "print('len_sample_bio', len(sample_bio))"
   ]
  },
  {
   "cell_type": "code",
   "execution_count": null,
   "id": "0a570077",
   "metadata": {},
   "outputs": [],
   "source": [
    "# Все длины порций данных в dataset_relationships, dataset_biographies одинаковы\n",
    "for i in range(len(dataset_relationships)):\n",
    "    if len(dataset_relationships[i]) != 9:\n",
    "        print(i)\n",
    "\n",
    "for i in range(len(dataset_biographies)):\n",
    "    if len(dataset_biographies[i]) != 5:\n",
    "        print(i)"
   ]
  },
  {
   "cell_type": "code",
   "execution_count": null,
   "id": "2eaa0b82",
   "metadata": {},
   "outputs": [],
   "source": [
    "# Вместо 1) weights_only=False лучше делать 2) torch.serialization.add_safe_globals([Rule, Person])\n",
    "# Т.к. 1) разрешает загрузку произвольного кода, а 2) явно дополняет безопасный по умолчанию список\n",
    "# Безопасный список по умолчанию: torch.Tensor, int, float, str, list, dict, tuple, numpy arrays, built-in Python types\n",
    "\n",
    "# Load the rule set\n",
    "# from utils_data_building import Person, Rule\n",
    "rule_list = torch.load(\"synthetic_data/family_rule.pt\", weights_only=False)\n",
    "\n",
    "# Load the relationships as a list of tuple КАК ОН ПОЛУЧЕН?\n",
    "#edge_list is a list of pairs of two people; relation_list is a list of relationthips in string, e.g. child.\n",
    "(edge_list,relation_list, _, _) = torch.load(\"synthetic_data/family-200-graph.pt\", weights_only=False) "
   ]
  },
  {
   "cell_type": "code",
   "execution_count": null,
   "id": "d20d997c",
   "metadata": {},
   "outputs": [
    {
     "name": "stdout",
     "output_type": "stream",
     "text": [
      "Число правил 48\n",
      "Type: <class 'utils_data_building.Rule'>\n",
      "Attributes: ['__class__', '__delattr__', '__dict__', '__dir__', '__doc__', '__eq__', '__format__', '__ge__', '__getattribute__', '__getstate__', '__gt__', '__hash__', '__init__', '__init_subclass__', '__le__', '__lt__', '__module__', '__ne__', '__new__', '__reduce__', '__reduce_ex__', '__repr__', '__setattr__', '__sizeof__', '__str__', '__subclasshook__', '__weakref__', 'get_dc_edges_list', 'get_up_edges_list', 'left_tuples', 'num_var', 'right_tuple']\n"
     ]
    }
   ],
   "source": [
    "print('Число правил', len(rule_list))\n",
    "first_rule = rule_list[0]\n",
    "print(f\"Type: {type(first_rule)}\")\n",
    "print(f\"Attributes: {dir(first_rule)}\")"
   ]
  },
  {
   "cell_type": "code",
   "execution_count": null,
   "id": "da36fd16",
   "metadata": {},
   "outputs": [
    {
     "name": "stdout",
     "output_type": "stream",
     "text": [
      "Всего правил: 48\n",
      "\n",
      "==================================================\n",
      "\n",
      "Правило 0:\n",
      "  num_var: 2\n",
      "  left_tuples: [(0, 'wife', 1)]\n",
      "  right_tuple: (1, 'husband', 0)\n",
      "\n",
      "Правило 1:\n",
      "  num_var: 3\n",
      "  left_tuples: [(1, 'child', 2), (0, 'child', 2)]\n",
      "  right_tuple: (0, 'husband', 1)\n",
      "\n",
      "Правило 2:\n",
      "  num_var: 3\n",
      "  left_tuples: [(0, 'father', 2), (0, 'mother', 1)]\n",
      "  right_tuple: (1, 'husband', 2)\n",
      "\n",
      "Правило 3:\n",
      "  num_var: 2\n",
      "  left_tuples: [(0, 'husband', 1)]\n",
      "  right_tuple: (1, 'wife', 0)\n",
      "\n",
      "Правило 4:\n",
      "  num_var: 3\n",
      "  left_tuples: [(1, 'child', 2), (0, 'child', 2)]\n",
      "  right_tuple: (0, 'wife', 1)\n"
     ]
    }
   ],
   "source": [
    "# Проанализируем несколько правил подробнее\n",
    "print(f\"Всего правил: {len(rule_list)}\")\n",
    "print(\"\\n\" + \"=\"*50)\n",
    "\n",
    "for i, rule in enumerate(rule_list[:5]):  # первые 3 правила\n",
    "    print(f\"\\nПравило {i}:\")\n",
    "    print(f\"  num_var: {rule.num_var}\")\n",
    "    print(f\"  left_tuples: {rule.left_tuples}\")\n",
    "    print(f\"  right_tuple: {rule.right_tuple}\")\n",
    "    \n",
    "    # # Вызовем методы чтобы увидеть что они возвращают\n",
    "    # if hasattr(rule, 'get_dc_edges_list'):\n",
    "    #     print(f\"  get_dc_edges_list(): {rule.get_dc_edges_list()}\")\n",
    "    # if hasattr(rule, 'get_up_edges_list'):\n",
    "    #     print(f\"  get_up_edges_list(): {rule.get_up_edges_list()}\")"
   ]
  },
  {
   "cell_type": "code",
   "execution_count": null,
   "id": "c54ec404",
   "metadata": {},
   "outputs": [],
   "source": [
    "from utils_data_building import Person, Rule\n",
    "# Load the relationships as a list of tuple\n",
    "#edge_list is a list of pairs of two people; relation_list is a list of relationthips in string, e.g. child.\n",
    "(edge_list,relation_list, _, _) = torch.load(\"synthetic_data/family-200-graph.pt\", weights_only=False) "
   ]
  },
  {
   "cell_type": "code",
   "execution_count": null,
   "id": "2b964fe0",
   "metadata": {},
   "outputs": [
    {
     "name": "stdout",
     "output_type": "stream",
     "text": [
      "400\n",
      "400\n",
      "(69, 67)\n",
      "father\n",
      "Type: <class 'tuple'>\n",
      "Attributes: ['__add__', '__class__', '__class_getitem__', '__contains__', '__delattr__', '__dir__', '__doc__', '__eq__', '__format__', '__ge__', '__getattribute__', '__getitem__', '__getnewargs__', '__getstate__', '__gt__', '__hash__', '__init__', '__init_subclass__', '__iter__', '__le__', '__len__', '__lt__', '__mul__', '__ne__', '__new__', '__reduce__', '__reduce_ex__', '__repr__', '__rmul__', '__setattr__', '__sizeof__', '__str__', '__subclasshook__', 'count', 'index']\n"
     ]
    }
   ],
   "source": [
    "print(len(edge_list))\n",
    "print(len(relation_list))\n",
    "print(edge_list[0])\n",
    "print(relation_list[0])\n",
    "print(f\"Type: {type(edge_list[0])}\")\n",
    "print(f\"Attributes: {dir(edge_list[0])}\")"
   ]
  },
  {
   "cell_type": "markdown",
   "id": "4bab66d8",
   "metadata": {},
   "source": [
    "# Разбор кода"
   ]
  },
  {
   "cell_type": "code",
   "execution_count": null,
   "id": "fb7add07",
   "metadata": {},
   "outputs": [],
   "source": [
    "# Код из calculate_recall_and_acc.py\n",
    "(edge_list, edge_type_list, fixed_names, person_list) = torch.load(\"synthetic_data/family-200-graph.pt\", weights_only=False)"
   ]
  },
  {
   "cell_type": "code",
   "execution_count": null,
   "id": "20dc90f1",
   "metadata": {},
   "outputs": [
    {
     "name": "stdout",
     "output_type": "stream",
     "text": [
      "400\n",
      "400\n",
      "100\n",
      "100\n",
      "(69, 67)\n",
      "father\n",
      "Sloane Lee\n",
      "<utils_data_building.Person object at 0x7e13e265ea80>\n",
      "\n",
      "Type: <class 'utils_data_building.Person'>\n",
      "Attributes: ['__class__', '__delattr__', '__dict__', '__dir__', '__doc__', '__eq__', '__format__', '__ge__', '__getattribute__', '__getstate__', '__gt__', '__hash__', '__init__', '__init_subclass__', '__le__', '__lt__', '__module__', '__ne__', '__new__', '__reduce__', '__reduce_ex__', '__repr__', '__setattr__', '__sizeof__', '__str__', '__subclasshook__', '__weakref__', 'age', 'birthplace', 'children', 'father', 'gender', 'generation', 'husband', 'if_build', 'job', 'mother', 'name', 'wife']\n"
     ]
    }
   ],
   "source": [
    "print(len(edge_list))\n",
    "print(len(edge_type_list))\n",
    "print(len(fixed_names))\n",
    "print(len(person_list))\n",
    "print(edge_list[0])\n",
    "print(edge_type_list[0])\n",
    "print(fixed_names[0])\n",
    "print(person_list[0])\n",
    "print()\n",
    "print(f\"Type: {type(person_list[0])}\")\n",
    "print(f\"Attributes: {dir(person_list[0])}\")\n"
   ]
  },
  {
   "cell_type": "code",
   "execution_count": null,
   "id": "1d9eea80",
   "metadata": {},
   "outputs": [
    {
     "name": "stdout",
     "output_type": "stream",
     "text": [
      "Всего людей: 100\n",
      "\n",
      "==================================================\n",
      "Человек 0:\n",
      "  age: 1908\n",
      "  birthplace: [46]\n",
      "  children: [<utils_data_building.Person object at 0x7e13e15143b0>, <utils_data_building.Person object at 0x7e13e152c800>]\n",
      "  father: None\n",
      "  gender: female\n",
      "  generation: 0\n",
      "  husband: <utils_data_building.Person object at 0x7e13e15150a0>\n",
      "  if_build: False\n",
      "  job: Banker\n",
      "  mother: None\n",
      "  name: 0\n",
      "  wife: None\n"
     ]
    }
   ],
   "source": [
    "# Проанализируем несколько Person подробнее\n",
    "print(f\"Всего людей: {len(person_list)}\")\n",
    "print(\"\\n\" + \"=\"*50)\n",
    "\n",
    "for i, person in enumerate(person_list[:1]):  # первые 3 правила\n",
    "    print(f\"Человек {i}:\")\n",
    "    print(f\"  age: {person.age}\")\n",
    "    print(f\"  birthplace: {person.birthplace}\")\n",
    "    print(f\"  children: {person.children}\")\n",
    "    print(f\"  father: {person.father}\")\n",
    "    print(f\"  gender: {person.gender}\")\n",
    "    print(f\"  generation: {person.generation}\")\n",
    "    print(f\"  husband: {person.husband}\")\n",
    "    print(f\"  if_build: {person.if_build}\")\n",
    "    print(f\"  job: {person.job}\")\n",
    "    print(f\"  mother: {person.mother}\")\n",
    "    print(f\"  name: {person.name}\")\n",
    "    print(f\"  wife: {person.wife}\")\n",
    "\n"
   ]
  },
  {
   "cell_type": "code",
   "execution_count": null,
   "id": "089c97d4",
   "metadata": {},
   "outputs": [
    {
     "name": "stdout",
     "output_type": "stream",
     "text": [
      "55\n"
     ]
    },
    {
     "data": {
      "text/plain": [
       "array([267, 272,  45, 108,  79,  97,  32, 220, 145, 300,  61, 374, 311,\n",
       "       280,  29, 290,  68, 146, 122,  77,  60,  51, 116, 274, 127, 343,\n",
       "       324, 260, 344, 286, 275, 229,  78, 219, 375, 349, 283, 282, 244,\n",
       "       186, 304,  28,  11, 106,  96, 180, 224, 171, 250, 269, 392, 265,\n",
       "       214,  59, 187])"
      ]
     },
     "execution_count": 5,
     "metadata": {},
     "output_type": "execute_result"
    }
   ],
   "source": [
    "# We select a random subset of size 55 from the facts in family relationship to evaluate the deep unlearning.\n",
    "shuffled_edge_id_list = torch.load(\"synthetic_data/subsample.pt\", weights_only=False)\n",
    "print(len(shuffled_edge_id_list))\n",
    "shuffled_edge_id_list"
   ]
  },
  {
   "cell_type": "code",
   "execution_count": null,
   "id": "8d770516",
   "metadata": {},
   "outputs": [],
   "source": [
    "shuffled_unlearn_data_id = shuffled_edge_id_list[args.unlearn_data_id]"
   ]
  },
  {
   "cell_type": "code",
   "execution_count": null,
   "id": "2e6f1992",
   "metadata": {},
   "outputs": [
    {
     "data": {
      "text/plain": [
       "np.int64(187)"
      ]
     },
     "execution_count": 9,
     "metadata": {},
     "output_type": "execute_result"
    }
   ],
   "source": [
    "#  Given any unlearn_target_data_id in 0-54, the id of fact in relationships is\n",
    "# shuffled_unlearn_data_id = shuffled_edge_id_list[unlearn_target_data_id]\n",
    "shuffled_unlearn_data_id = shuffled_edge_id_list[54]\n",
    "shuffled_unlearn_data_id"
   ]
  },
  {
   "cell_type": "markdown",
   "id": "f365b6d0",
   "metadata": {},
   "source": [
    "# Проверка скрипта calculate_acc_and_recall"
   ]
  },
  {
   "cell_type": "markdown",
   "id": "bfa11cf7",
   "metadata": {},
   "source": [
    "Надо понять разницу между relationships, biographies: biographies_correct.pt vs family_biographies.pt"
   ]
  },
  {
   "cell_type": "code",
   "execution_count": null,
   "id": "a6a9e884",
   "metadata": {},
   "outputs": [],
   "source": [
    "# Надо понять, как метрики ниже вычислены. Это усреднение всех методов? Надо ли что-то учить"
   ]
  },
  {
   "cell_type": "markdown",
   "id": "bc2c878f",
   "metadata": {},
   "source": [
    "For any unlearning method, suppose relationships_correct.pt and biographies_correct.pt are two 0-1 vectors saved under the directory input_dir, which indicate the retained facts in family relationships and biographies after the unlearning the fact unlearn_target_data_id."
   ]
  },
  {
   "cell_type": "code",
   "execution_count": null,
   "id": "8b2338f5",
   "metadata": {},
   "outputs": [],
   "source": [
    "# При запуске (для unlearn_data_id 2 результаты те же)\n",
    "\n",
    "python calculate_recall_and_acc.py --unlearn_data_id 1 --input_dir example_for_evaluation\n",
    "# но по смыслу расчета для accuracy of biographies надо 1 - 0.023 = 0.977 \n",
    "('recall', 'accuracy of relationships', 'accuracy of biographies', 'accuracy of all knowledge base')\n",
    "(0.75, 0.25, 0.023333333333333334, 0.15229885057471265)\n",
    "\n",
    "# python calculate_recall_and_acc.py --unlearn_data_id 3 --input_dir example_for_evaluation\n",
    "# (1.0, 0.2518891687657431, 0.023333333333333334, 0.15351506456241032)\n",
    "\n",
    "# Что это значит? # Видимо пообъектно рассчитываются метрики.\n",
    "# upd: скорее качество модели оценивается после подачи ей одного факта\n",
    "\n",
    "# Вот только я запуталась, это superficial или deep unlearning? По идее deep, но тут смесь с фактами из биографии\n",
    "# Как их отучать? Подать сразу все 300 фактов?"
   ]
  },
  {
   "cell_type": "code",
   "execution_count": null,
   "id": "6b348df5",
   "metadata": {},
   "outputs": [
    {
     "name": "stdout",
     "output_type": "stream",
     "text": [
      "Тип данных: <class 'list'>\n",
      "Размер/форма: 400\n",
      "Содержимое: [False, True, True, False, False, True, False, False, True, True, False, False, True, True, False, False, False, False, False, False, True, False, False, False, False, False, False, False, False, False, True, False, False, False, False, True, False, True, False, True, False, True, True, False, False, False, False, False, False, True, False, False, False, False, True, True, False, False, True, False, False, False, False, False, False, False, False, False, False, False, False, False, False, False, False, False, False, False, False, False, False, False, False, False, False, False, False, True, True, False, False, True, False, False, False, False, False, False, True, False, True, False, True, False, False, False, False, False, False, False, True, False, False, True, False, False, False, False, False, False, False, True, False, False, False, False, False, False, True, True, False, True, True, False, False, False, True, False, False, True, True, False, False, False, False, False, False, False, False, False, False, False, False, False, False, False, False, False, True, False, False, False, False, False, True, True, False, True, True, False, False, False, False, False, False, False, False, False, False, False, False, False, True, False, False, True, False, False, False, True, False, True, False, True, True, False, False, False, False, False, False, False, False, False, False, False, True, True, False, False, False, False, False, True, False, False, False, True, False, False, False, True, False, False, False, False, False, True, True, False, True, True, False, False, False, False, False, False, True, True, False, False, True, False, False, False, False, True, False, False, False, False, False, True, False, False, False, False, True, True, True, False, False, False, True, False, False, False, False, False, False, False, False, True, False, False, True, False, False, False, False, False, False, False, True, True, True, True, False, False, False, False, True, False, False, False, False, True, False, False, False, True, True, False, False, False, False, False, True, False, False, False, False, False, False, False, False, True, False, False, True, False, False, False, True, False, False, False, True, False, True, True, False, False, False, False, False, True, False, False, False, True, True, True, True, False, False, True, False, False, False, True, True, False, False, False, True, False, False, False, False, True, True, False, False, True, True, False, False, False, False, True, False, False, False, False, True, False, False, False, False, False, False, False, False, True, False, False, True, True, True, False, False, False, True, False, False, False, False, False]\n"
     ]
    }
   ],
   "source": [
    "# Загрузка файла (бинарный 0/1 False/True)\n",
    "data = torch.load(\"example_for_evaluation/relationships_correct.pt\")\n",
    "\n",
    "# Просмотр базовой информации\n",
    "print(\"Тип данных:\", type(data))\n",
    "print(\"Размер/форма:\", data.shape if hasattr(data, 'shape') else len(data))\n",
    "print(\"Содержимое:\", data)\n",
    "\n",
    "# Если это тензор\n",
    "if torch.is_tensor(data):\n",
    "    print(\"Форма тензора:\", data.shape)\n",
    "    print(\"Тип данных тензора:\", data.dtype)\n",
    "    print(\"Первые 10 элементов:\", data[:10] if len(data) > 10 else data)"
   ]
  },
  {
   "cell_type": "code",
   "execution_count": 5,
   "id": "022bd817",
   "metadata": {},
   "outputs": [
    {
     "name": "stdout",
     "output_type": "stream",
     "text": [
      "Тип данных: <class 'list'>\n",
      "Размер/форма: 300\n",
      "Содержимое: [False, False, False, False, False, False, False, False, False, False, False, False, False, False, False, False, False, False, False, False, False, False, False, False, False, False, False, False, False, False, False, False, False, False, False, False, False, False, False, False, False, False, False, False, False, False, False, False, False, False, False, False, False, False, False, False, False, False, False, False, False, False, False, False, False, False, False, False, False, False, False, False, False, False, False, False, False, False, False, False, False, False, False, False, False, False, False, False, False, False, False, False, False, False, False, False, False, False, False, False, False, False, False, False, False, False, False, False, False, False, False, False, False, False, False, False, False, False, False, False, False, False, False, False, False, False, False, False, False, False, False, False, False, False, False, False, False, False, False, False, False, False, False, False, False, False, False, False, False, False, False, False, False, False, False, False, False, False, False, False, False, False, False, False, False, False, False, False, True, True, False, False, True, False, False, True, False, False, False, False, False, False, False, False, False, False, False, False, False, True, False, False, False, False, False, False, False, False, False, False, False, False, True, False, False, False, False, False, False, False, False, False, False, False, True, False, False, False, False, False, False, False, False, False, False, False, False, False, False, False, False, False, False, False, False, False, False, False, False, False, False, False, False, False, False, False, False, False, False, False, False, False, False, False, False, False, False, False, False, False, False, False, False, False, False, False, False, False, False, False, False, False, False, False, False, False, False, False, False, False, False, False, False, False, False, False, False, False, False, False, False, False, False, False, False, False, False, False, False, False]\n",
      "Число единиц: 7\n"
     ]
    }
   ],
   "source": [
    "import torch\n",
    "import numpy as np\n",
    "data = torch.load(\"example_for_evaluation/biographies_correct.pt\")\n",
    "\n",
    "print(\"Тип данных:\", type(data))\n",
    "print(\"Размер/форма:\", data.shape if hasattr(data, 'shape') else len(data))\n",
    "print(\"Содержимое:\", data)\n",
    "print('Число единиц:', np.asarray(data).sum())\n",
    "\n",
    "# Если это тензор\n",
    "if torch.is_tensor(data):\n",
    "    print(\"Форма тензора:\", data.shape)\n",
    "    print(\"Тип данных тензора:\", data.dtype)\n",
    "    print(\"Первые 10 элементов:\", data[:10] if len(data) > 10 else data)"
   ]
  },
  {
   "cell_type": "code",
   "execution_count": null,
   "id": "ebc9cf6a",
   "metadata": {},
   "outputs": [],
   "source": [
    "rel_ind = np.asarray(torch.load(f\"{args.input_dir}/relationships_correct.pt\")).astype(np.float32)"
   ]
  },
  {
   "cell_type": "markdown",
   "id": "c94abe9e",
   "metadata": {},
   "source": [
    "# Повторение забывания и forget.py"
   ]
  },
  {
   "cell_type": "markdown",
   "id": "dcb104ce",
   "metadata": {},
   "source": [
    "In the paper, we tested with four unlearning methods: gradient ascent (GA), Negative preference optimization  (NPO), task vector (TV), who's harry potter (WHP). The hyperparameter list of each method is saved in config/model_config.yaml. The related scripts are saved in ./unlearning_methods. By set any unlearning_method (ga, npo, tv, whp), any target_model (phi, gpt2-xl, llama2-7b, llama3-8b), and unlearn_target_data_id (0-54), the script is"
   ]
  },
  {
   "cell_type": "code",
   "execution_count": null,
   "id": "b0f26349",
   "metadata": {},
   "outputs": [],
   "source": [
    "bash unlearning_methods/${unlearning_methods}.sh $target_model $unlearn_target_data_id\n",
    "\n",
    "# например\n",
    "bash unlearning_methods/ga.sh gpt2-xl 1\n",
    "\n",
    "В ga.sh будет forget.py, vllm_eval.py"
   ]
  },
  {
   "cell_type": "code",
   "execution_count": null,
   "id": "bd5fb623",
   "metadata": {},
   "outputs": [],
   "source": [
    "# Просмотреть forget.py и vllm_eval.py"
   ]
  },
  {
   "cell_type": "markdown",
   "id": "ece785bf",
   "metadata": {},
   "source": [
    "1. В forget.py нет отдельной логики для tv и whp, есть лишь для npo и ga. Возможно, разные технические реализации\n",
    "2. unlearn_trainer.py - ядро забывания, в нем же описаны лишь ga и npo\n",
    "3. В forget.py в hydra нужно монтировать google drive, чтобы грузить отттуда/туда чекпоинты\n",
    "4. В data_module.py создаются батчи из многократно повторенного 1 и того же факта, вроде эффективно для обучения\n",
    "\n",
    "5. Изучить ядро забывания - unlearn_trainer.py"
   ]
  },
  {
   "cell_type": "code",
   "execution_count": null,
   "id": "d5f2c14c",
   "metadata": {},
   "outputs": [],
   "source": [
    "# 01.10.2025. Продолжить с get_minimal_nec_unlearn_and_not_included_unlearn в utils_metric.py\n",
    "# 05.10.2025. Что там такое minimal_set?\n",
    "# Понять, как считается accuracy. Что такое, minimal_set на 80% стало понятно"
   ]
  },
  {
   "cell_type": "code",
   "execution_count": null,
   "id": "d55324e8",
   "metadata": {},
   "outputs": [],
   "source": []
  },
  {
   "cell_type": "markdown",
   "id": "6397d904",
   "metadata": {},
   "source": [
    "06.10.2025. \n",
    "1. Как получаются векторы из 0/1 relationships_correct.pt и biographies_correct.pt после unlearning? Допустим, выбирается 1 из 4 моделей и 1 из 4 методов. Но каких данных происходит unlearning? \n",
    "2. Здесь очень много о том, как создать правильное множество для забывания факта. Но не ясно, на каких данных происходит забывание.\n",
    "3. По идее сколько фактов, столько раз и происходил unlearning * 4 * 4 (моделей * методов)\n",
    "Какие именно данные подаются в модели при unlearning?\n",
    "4. По какой все же логике строятся ответы при запуске python calculate_recall_and_acc.py --unlearn_data_id 3 --input_dir example_for_evaluation ? Или "
   ]
  },
  {
   "cell_type": "code",
   "execution_count": null,
   "id": "251d13cb",
   "metadata": {},
   "outputs": [
    {
     "name": "stdout",
     "output_type": "stream",
     "text": [
      "<class 'tuple'>\n",
      "Размер/форма: 4\n",
      "Содержимое: (np.float64(1.0), np.float64(0.2518891687657431), np.float64(0.023333333333333334), np.float64(0.15351506456241032))\n"
     ]
    }
   ],
   "source": [
    "# В rec_acc данные только по проверке 1 id. И это тот, который я запускала в последний раз.\n",
    "# Значит, от авторов ничего содержательного не сохранилось\n",
    "rec_acc = torch.load('example_for_evaluation/rec_acc.pt', weights_only=False)\n",
    "print(type(rec_acc))\n",
    "print(\"Размер/форма:\", rec_acc.shape if hasattr(data, 'shape') else len(rec_acc))\n",
    "print(\"Содержимое:\", rec_acc)"
   ]
  },
  {
   "cell_type": "markdown",
   "id": "aedd25ae",
   "metadata": {},
   "source": [
    "!!! Понять, как создаются relationships_correct.pt  (rel_ind, unlearn_ind на его основе) и biographies_correct.pt (bio_ind), т.к. на их основе считаются потом метрики, это существенно важно для оценки"
   ]
  },
  {
   "cell_type": "markdown",
   "id": "68dda071",
   "metadata": {},
   "source": [
    "07.10.2025\n",
    "1.Изучить ga.sh, forget.py, vllm_eval.py, utils_metric.py, unlearn_trainer.py\n",
    "2.Чтобы понять, как на взятом одном примере провести unlearning, куда он будет сохраняться. Сколько времени уходит на 1 образец. Нужно для него разные чекпоинты посохранять. Желательно и каждую эпоху, и в лог. шкале (1, 2, 4, 16, 32)"
   ]
  }
 ],
 "metadata": {
  "kernelspec": {
   "display_name": "Python 3 (ipykernel)",
   "language": "python",
   "name": "python3"
  },
  "language_info": {
   "codemirror_mode": {
    "name": "ipython",
    "version": 3
   },
   "file_extension": ".py",
   "mimetype": "text/x-python",
   "name": "python",
   "nbconvert_exporter": "python",
   "pygments_lexer": "ipython3",
   "version": "3.12.11"
  }
 },
 "nbformat": 4,
 "nbformat_minor": 5
}
