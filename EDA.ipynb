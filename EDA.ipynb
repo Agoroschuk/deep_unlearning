{
 "cells": [
  {
   "cell_type": "markdown",
   "id": "71b96d5b",
   "metadata": {},
   "source": [
    "# По README"
   ]
  },
  {
   "cell_type": "code",
   "execution_count": 17,
   "id": "498b415a",
   "metadata": {},
   "outputs": [],
   "source": [
    "import torch\n",
    "from datasets import Dataset\n",
    "# Load the QA-form knowledge base as huggingfact datasets\n",
    "dataset_relationships = Dataset.from_dict(torch.load(\"synthetic_data/family_relationships.pt\")) #load the facts in family relationships\n",
    "dataset_biographies = Dataset.from_dict(torch.load(\"synthetic_data/family_biographies.pt\")) #load the facts in biographies"
   ]
  },
  {
   "cell_type": "code",
   "execution_count": 2,
   "id": "60f249da",
   "metadata": {},
   "outputs": [
    {
     "name": "stdout",
     "output_type": "stream",
     "text": [
      "Relationships dataset: 400\n",
      "Biographies dataset: 300\n",
      "Sample relationships: {'fact': \"Richard Perry is Reid Perry's father.\", 'question': \"Richard Perry is Reid Perry's \", 'answer': 'father', 'question2': \"Is Richard Perry Reid Perry's father?\", 'answer2': 'yes', 'question3': \"Is Richard Perry Reid Perry's uncle?\", 'answer3': 'no', 'question4': 'Who is Richard Perry to Reid Perry?', 'answer4': 'father'}\n",
      "Sample biographies: {'fact': 'The birthyear of Sloane Lee is 1908.', 'question': 'The birthyear of Sloane Lee is', 'answer': '1908', 'question4': 'What is the birthyear of Sloane Lee?', 'answer4': '1908'}\n",
      "len_sample_relat 9\n",
      "len_sample_bio 5\n"
     ]
    }
   ],
   "source": [
    "# От авторов: The question and answer are with the key question4 and answer4. (Значит, только на них тестировалось забывание?)\n",
    "\n",
    "# Biographies забывались лучше \n",
    "print(\"Relationships dataset:\", len(dataset_relationships))\n",
    "print(\"Biographies dataset:\", len(dataset_biographies))\n",
    "print(\"Sample relationships:\", dataset_relationships[0])\n",
    "print(\"Sample biographies:\", dataset_biographies[0])\n",
    "\n",
    "sample_relat = dataset_relationships[0]\n",
    "sample_bio = dataset_biographies[0] # здесь только пары question-answer и question4-answer4\n",
    "print('len_sample_relat', len(sample_relat))\n",
    "print('len_sample_bio', len(sample_bio))"
   ]
  },
  {
   "cell_type": "code",
   "execution_count": null,
   "id": "0a570077",
   "metadata": {},
   "outputs": [],
   "source": [
    "# Все длины порций данных в dataset_relationships, dataset_biographies одинаковы\n",
    "for i in range(len(dataset_relationships)):\n",
    "    if len(dataset_relationships[i]) != 9:\n",
    "        print(i)\n",
    "\n",
    "for i in range(len(dataset_biographies)):\n",
    "    if len(dataset_biographies[i]) != 5:\n",
    "        print(i)"
   ]
  },
  {
   "cell_type": "code",
   "execution_count": 14,
   "id": "2eaa0b82",
   "metadata": {},
   "outputs": [],
   "source": [
    "# Вместо 1) weights_only=False лучше делать 2) torch.serialization.add_safe_globals([Rule, Person])\n",
    "# Т.к. 1) разрешает загрузку произвольного кода, а 2) явно дополняет безопасный по умолчанию список\n",
    "# Безопасный список по умолчанию: torch.Tensor, int, float, str, list, dict, tuple, numpy arrays, built-in Python types\n",
    "\n",
    "# Load the rule set\n",
    "# from utils_data_building import Person, Rule\n",
    "rule_list = torch.load(\"synthetic_data/family_rule.pt\", weights_only=False)\n",
    "\n",
    "# Load the relationships as a list of tuple\n",
    "#edge_list is a list of pairs of two people; relation_list is a list of relationthips in string, e.g. child.\n",
    "(edge_list,relation_list, _, _) = torch.load(\"synthetic_data/family-200-graph.pt\", weights_only=False) "
   ]
  },
  {
   "cell_type": "code",
   "execution_count": null,
   "id": "d20d997c",
   "metadata": {},
   "outputs": [
    {
     "name": "stdout",
     "output_type": "stream",
     "text": [
      "Число правил 48\n",
      "Type: <class 'utils_data_building.Rule'>\n",
      "Attributes: ['__class__', '__delattr__', '__dict__', '__dir__', '__doc__', '__eq__', '__format__', '__ge__', '__getattribute__', '__getstate__', '__gt__', '__hash__', '__init__', '__init_subclass__', '__le__', '__lt__', '__module__', '__ne__', '__new__', '__reduce__', '__reduce_ex__', '__repr__', '__setattr__', '__sizeof__', '__str__', '__subclasshook__', '__weakref__', 'get_dc_edges_list', 'get_up_edges_list', 'left_tuples', 'num_var', 'right_tuple']\n"
     ]
    }
   ],
   "source": [
    "print('Число правил', len(rule_list))\n",
    "first_rule = rule_list[0]\n",
    "print(f\"Type: {type(first_rule)}\")\n",
    "print(f\"Attributes: {dir(first_rule)}\")"
   ]
  },
  {
   "cell_type": "code",
   "execution_count": null,
   "id": "da36fd16",
   "metadata": {},
   "outputs": [
    {
     "name": "stdout",
     "output_type": "stream",
     "text": [
      "Всего правил: 48\n",
      "\n",
      "==================================================\n",
      "\n",
      "Правило 0:\n",
      "  num_var: 2\n",
      "  left_tuples: [(0, 'wife', 1)]\n",
      "  right_tuple: (1, 'husband', 0)\n",
      "\n",
      "Правило 1:\n",
      "  num_var: 3\n",
      "  left_tuples: [(1, 'child', 2), (0, 'child', 2)]\n",
      "  right_tuple: (0, 'husband', 1)\n",
      "\n",
      "Правило 2:\n",
      "  num_var: 3\n",
      "  left_tuples: [(0, 'father', 2), (0, 'mother', 1)]\n",
      "  right_tuple: (1, 'husband', 2)\n",
      "\n",
      "Правило 3:\n",
      "  num_var: 2\n",
      "  left_tuples: [(0, 'husband', 1)]\n",
      "  right_tuple: (1, 'wife', 0)\n",
      "\n",
      "Правило 4:\n",
      "  num_var: 3\n",
      "  left_tuples: [(1, 'child', 2), (0, 'child', 2)]\n",
      "  right_tuple: (0, 'wife', 1)\n"
     ]
    }
   ],
   "source": [
    "# Проанализируем несколько правил подробнее\n",
    "print(f\"Всего правил: {len(rule_list)}\")\n",
    "print(\"\\n\" + \"=\"*50)\n",
    "\n",
    "for i, rule in enumerate(rule_list[:5]):  # первые 3 правила\n",
    "    print(f\"\\nПравило {i}:\")\n",
    "    print(f\"  num_var: {rule.num_var}\")\n",
    "    print(f\"  left_tuples: {rule.left_tuples}\")\n",
    "    print(f\"  right_tuple: {rule.right_tuple}\")\n",
    "    \n",
    "    # # Вызовем методы чтобы увидеть что они возвращают\n",
    "    # if hasattr(rule, 'get_dc_edges_list'):\n",
    "    #     print(f\"  get_dc_edges_list(): {rule.get_dc_edges_list()}\")\n",
    "    # if hasattr(rule, 'get_up_edges_list'):\n",
    "    #     print(f\"  get_up_edges_list(): {rule.get_up_edges_list()}\")"
   ]
  },
  {
   "cell_type": "code",
   "execution_count": 15,
   "id": "c54ec404",
   "metadata": {},
   "outputs": [],
   "source": [
    "# from utils_data_building import Person, Rule\n",
    "# Load the relationships as a list of tuple\n",
    "#edge_list is a list of pairs of two people; relation_list is a list of relationthips in string, e.g. child.\n",
    "(edge_list,relation_list, _, _) = torch.load(\"synthetic_data/family-200-graph.pt\", weights_only=False) "
   ]
  },
  {
   "cell_type": "code",
   "execution_count": 21,
   "id": "2b964fe0",
   "metadata": {},
   "outputs": [
    {
     "name": "stdout",
     "output_type": "stream",
     "text": [
      "400\n",
      "400\n",
      "(69, 67)\n",
      "father\n",
      "Type: <class 'tuple'>\n",
      "Attributes: ['__add__', '__class__', '__class_getitem__', '__contains__', '__delattr__', '__dir__', '__doc__', '__eq__', '__format__', '__ge__', '__getattribute__', '__getitem__', '__getnewargs__', '__getstate__', '__gt__', '__hash__', '__init__', '__init_subclass__', '__iter__', '__le__', '__len__', '__lt__', '__mul__', '__ne__', '__new__', '__reduce__', '__reduce_ex__', '__repr__', '__rmul__', '__setattr__', '__sizeof__', '__str__', '__subclasshook__', 'count', 'index']\n"
     ]
    }
   ],
   "source": [
    "print(len(edge_list))\n",
    "print(len(relation_list))\n",
    "print(edge_list[0])\n",
    "print(relation_list[0])\n",
    "print(f\"Type: {type(edge_list[0])}\")\n",
    "print(f\"Attributes: {dir(edge_list[0])}\")"
   ]
  },
  {
   "cell_type": "markdown",
   "id": "4bab66d8",
   "metadata": {},
   "source": [
    "# Разбор кода"
   ]
  },
  {
   "cell_type": "code",
   "execution_count": 19,
   "id": "fb7add07",
   "metadata": {},
   "outputs": [],
   "source": [
    "# Код из calculate_recall_and_acc.py\n",
    "(edge_list, edge_type_list, fixed_names, person_list) = torch.load(\"synthetic_data/family-200-graph.pt\", weights_only=False)"
   ]
  },
  {
   "cell_type": "code",
   "execution_count": 23,
   "id": "20dc90f1",
   "metadata": {},
   "outputs": [
    {
     "name": "stdout",
     "output_type": "stream",
     "text": [
      "400\n",
      "400\n",
      "100\n",
      "100\n",
      "(69, 67)\n",
      "father\n",
      "Sloane Lee\n",
      "<utils_data_building.Person object at 0x7e13e265ea80>\n",
      "\n",
      "Type: <class 'utils_data_building.Person'>\n",
      "Attributes: ['__class__', '__delattr__', '__dict__', '__dir__', '__doc__', '__eq__', '__format__', '__ge__', '__getattribute__', '__getstate__', '__gt__', '__hash__', '__init__', '__init_subclass__', '__le__', '__lt__', '__module__', '__ne__', '__new__', '__reduce__', '__reduce_ex__', '__repr__', '__setattr__', '__sizeof__', '__str__', '__subclasshook__', '__weakref__', 'age', 'birthplace', 'children', 'father', 'gender', 'generation', 'husband', 'if_build', 'job', 'mother', 'name', 'wife']\n"
     ]
    }
   ],
   "source": [
    "print(len(edge_list))\n",
    "print(len(edge_type_list))\n",
    "print(len(fixed_names))\n",
    "print(len(person_list))\n",
    "print(edge_list[0])\n",
    "print(edge_type_list[0])\n",
    "print(fixed_names[0])\n",
    "print(person_list[0])\n",
    "print()\n",
    "print(f\"Type: {type(person_list[0])}\")\n",
    "print(f\"Attributes: {dir(person_list[0])}\")\n"
   ]
  },
  {
   "cell_type": "code",
   "execution_count": 28,
   "id": "1d9eea80",
   "metadata": {},
   "outputs": [
    {
     "name": "stdout",
     "output_type": "stream",
     "text": [
      "Всего людей: 100\n",
      "\n",
      "==================================================\n",
      "Человек 0:\n",
      "  age: 1908\n",
      "  birthplace: [46]\n",
      "  children: [<utils_data_building.Person object at 0x7e13e15143b0>, <utils_data_building.Person object at 0x7e13e152c800>]\n",
      "  father: None\n",
      "  gender: female\n",
      "  generation: 0\n",
      "  husband: <utils_data_building.Person object at 0x7e13e15150a0>\n",
      "  if_build: False\n",
      "  job: Banker\n",
      "  mother: None\n",
      "  name: 0\n",
      "  wife: None\n"
     ]
    }
   ],
   "source": [
    "# Проанализируем несколько Person подробнее\n",
    "print(f\"Всего людей: {len(person_list)}\")\n",
    "print(\"\\n\" + \"=\"*50)\n",
    "\n",
    "for i, person in enumerate(person_list[:1]):  # первые 3 правила\n",
    "    print(f\"Человек {i}:\")\n",
    "    print(f\"  age: {person.age}\")\n",
    "    print(f\"  birthplace: {person.birthplace}\")\n",
    "    print(f\"  children: {person.children}\")\n",
    "    print(f\"  father: {person.father}\")\n",
    "    print(f\"  gender: {person.gender}\")\n",
    "    print(f\"  generation: {person.generation}\")\n",
    "    print(f\"  husband: {person.husband}\")\n",
    "    print(f\"  if_build: {person.if_build}\")\n",
    "    print(f\"  job: {person.job}\")\n",
    "    print(f\"  mother: {person.mother}\")\n",
    "    print(f\"  name: {person.name}\")\n",
    "    print(f\"  wife: {person.wife}\")\n",
    "\n"
   ]
  },
  {
   "cell_type": "code",
   "execution_count": 31,
   "id": "089c97d4",
   "metadata": {},
   "outputs": [
    {
     "name": "stdout",
     "output_type": "stream",
     "text": [
      "55\n"
     ]
    },
    {
     "data": {
      "text/plain": [
       "array([267, 272,  45, 108,  79,  97,  32, 220, 145, 300,  61, 374, 311,\n",
       "       280,  29, 290,  68, 146, 122,  77,  60,  51, 116, 274, 127, 343,\n",
       "       324, 260, 344, 286, 275, 229,  78, 219, 375, 349, 283, 282, 244,\n",
       "       186, 304,  28,  11, 106,  96, 180, 224, 171, 250, 269, 392, 265,\n",
       "       214,  59, 187])"
      ]
     },
     "execution_count": 31,
     "metadata": {},
     "output_type": "execute_result"
    }
   ],
   "source": [
    "shuffled_edge_id_list = torch.load(\"synthetic_data/subsample.pt\", weights_only=False)\n",
    "print(len(shuffled_edge_id_list))\n",
    "shuffled_edge_id_list"
   ]
  }
 ],
 "metadata": {
  "kernelspec": {
   "display_name": "Python 3 (ipykernel)",
   "language": "python",
   "name": "python3"
  },
  "language_info": {
   "codemirror_mode": {
    "name": "ipython",
    "version": 3
   },
   "file_extension": ".py",
   "mimetype": "text/x-python",
   "name": "python",
   "nbconvert_exporter": "python",
   "pygments_lexer": "ipython3",
   "version": "3.12.11"
  }
 },
 "nbformat": 4,
 "nbformat_minor": 5
}
