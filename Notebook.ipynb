{
 "cells": [
  {
   "cell_type": "code",
   "execution_count": 1,
   "id": "498b415a",
   "metadata": {},
   "outputs": [],
   "source": [
    "import torch\n",
    "from datasets import Dataset\n",
    "# Load the QA-form knowledge base as huggingfact datasets\n",
    "dataset_relationships = Dataset.from_dict(torch.load(\"synthetic_data/family_relationships.pt\")) #load the facts in family relationships\n",
    "dataset_biographies = Dataset.from_dict(torch.load(\"synthetic_data/family_biographies.pt\")) #load the facts in biographies\n"
   ]
  },
  {
   "cell_type": "code",
   "execution_count": null,
   "id": "60f249da",
   "metadata": {},
   "outputs": [],
   "source": [
    "print(\"Relationships dataset:\", len(dataset_relationships))\n",
    "print(\"Biographies dataset:\", len(dataset_biographies))\n",
    "print(\"Sample:\", dataset_relationships[0])"
   ]
  },
  {
   "cell_type": "code",
   "execution_count": 3,
   "id": "0a570077",
   "metadata": {},
   "outputs": [
    {
     "name": "stdout",
     "output_type": "stream",
     "text": [
      "\n",
      "Automagic is OFF, % prefix IS needed for line magics.\n"
     ]
    }
   ],
   "source": [
    "# В первой ячейке:\n",
    "%config IPKernelApp.parent_appname=''\n",
    "%automagic off"
   ]
  },
  {
   "cell_type": "code",
   "execution_count": 7,
   "id": "d20d997c",
   "metadata": {},
   "outputs": [
    {
     "name": "stderr",
     "output_type": "stream",
     "text": [
      "usage: colab_kernel_launcher.py [-h] [--unlearn_data_id UNLEARN_DATA_ID]\n",
      "                                [--input_dir INPUT_DIR]\n",
      "colab_kernel_launcher.py: error: unrecognized arguments: -f /root/.local/share/jupyter/runtime/kernel-v3633a1e0a9bce9261c22d001d9c0b0be0cd2b30f2.json\n"
     ]
    },
    {
     "ename": "SystemExit",
     "evalue": "2",
     "output_type": "error",
     "traceback": [
      "An exception has occurred, use %tb to see the full traceback.\n",
      "\u001b[0;31mSystemExit\u001b[0m\u001b[0;31m:\u001b[0m 2\n"
     ]
    },
    {
     "name": "stderr",
     "output_type": "stream",
     "text": [
      "/usr/local/lib/python3.12/dist-packages/IPython/core/interactiveshell.py:3561: UserWarning: To exit: use 'exit', 'quit', or Ctrl-D.\n",
      "  warn(\"To exit: use 'exit', 'quit', or Ctrl-D.\", stacklevel=1)\n"
     ]
    }
   ],
   "source": [
    "# Load the rule set\n",
    "from calculate_recall_and_acc import Rule, Person\n",
    "rule_list = torch.load(\"synthetic_data/family_rule.pt\")"
   ]
  },
  {
   "cell_type": "code",
   "execution_count": 6,
   "id": "da36fd16",
   "metadata": {},
   "outputs": [
    {
     "name": "stderr",
     "output_type": "stream",
     "text": [
      "usage: colab_kernel_launcher.py [-h] [--unlearn_data_id UNLEARN_DATA_ID]\n",
      "                                [--input_dir INPUT_DIR]\n",
      "colab_kernel_launcher.py: error: unrecognized arguments: -f /root/.local/share/jupyter/runtime/kernel-v3633a1e0a9bce9261c22d001d9c0b0be0cd2b30f2.json\n"
     ]
    },
    {
     "ename": "SystemExit",
     "evalue": "2",
     "output_type": "error",
     "traceback": [
      "An exception has occurred, use %tb to see the full traceback.\n",
      "\u001b[0;31mSystemExit\u001b[0m\u001b[0;31m:\u001b[0m 2\n"
     ]
    }
   ],
   "source": [
    "from calculate_recall_and_acc import Person\n",
    "# Load the relationships as a list of tuple\n",
    "(edge_list,relation_list, _, _) = torch.load(\"synthetic_data/family-200-graph.pt\") #edge_list is a list of pairs of two people; relation_list is a list of relationthips in string, e.g. child."
   ]
  },
  {
   "cell_type": "code",
   "execution_count": 6,
   "id": "c2fe82b3",
   "metadata": {},
   "outputs": [
    {
     "data": {
      "text/plain": [
       "Dataset({\n",
       "    features: ['fact', 'question', 'answer', 'question2', 'answer2', 'question3', 'answer3', 'question4', 'answer4'],\n",
       "    num_rows: 400\n",
       "})"
      ]
     },
     "execution_count": 6,
     "metadata": {},
     "output_type": "execute_result"
    }
   ],
   "source": [
    "dataset_relationships"
   ]
  },
  {
   "cell_type": "code",
   "execution_count": null,
   "id": "c54ec404",
   "metadata": {},
   "outputs": [],
   "source": []
  }
 ],
 "metadata": {
  "kernelspec": {
   "display_name": "Python 3 (ipykernel)",
   "language": "python",
   "name": "python3"
  },
  "language_info": {
   "codemirror_mode": {
    "name": "ipython",
    "version": 3
   },
   "file_extension": ".py",
   "mimetype": "text/x-python",
   "name": "python",
   "nbconvert_exporter": "python",
   "pygments_lexer": "ipython3",
   "version": "3.12.11"
  }
 },
 "nbformat": 4,
 "nbformat_minor": 5
}
